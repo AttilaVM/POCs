{
 "cells": [
  {
   "cell_type": "markdown",
   "id": "c4b70eeb-b4be-4cb5-8754-b0342de54552",
   "metadata": {},
   "source": [
    "# Download DisGeNet SQLite file"
   ]
  },
  {
   "cell_type": "markdown",
   "id": "4b411d7d-3c02-44e4-815d-e61b4951692a",
   "metadata": {},
   "source": [
    "Download the DisGeNet data source from here: https://www.disgenet.org/downloads as a gunziped SQLite databse file, after registration and login into the data directory of this project.\n",
    "\n",
    "then unarchive tha gziped sqlite db file:\n",
    "\n",
    "```bash\n",
    "gzip -d disgenet_2020.db.gz\n",
    "```\n",
    "\n",
    "The following Python+SQLite SQL code shows the inclusion ratio of different DAG score thresholds"
   ]
  },
  {
   "cell_type": "markdown",
   "id": "af6a3d49-7d80-4777-b196-0f1e10692d4e",
   "metadata": {},
   "source": [
    "# Connect to SQLite db"
   ]
  },
  {
   "cell_type": "code",
   "execution_count": 79,
   "id": "216527a9-b029-4722-a403-d3f6067312cb",
   "metadata": {},
   "outputs": [],
   "source": [
    "import sqlite3"
   ]
  },
  {
   "cell_type": "code",
   "execution_count": 80,
   "id": "c615d926-3455-4911-9799-30829e5405fa",
   "metadata": {},
   "outputs": [],
   "source": [
    "con = sqlite3.connect(\"../data/disgenet_2020.db\")"
   ]
  },
  {
   "cell_type": "code",
   "execution_count": 81,
   "id": "814a775b-2792-4f90-8b9d-68622779aa86",
   "metadata": {},
   "outputs": [],
   "source": [
    "cur = con.cursor()"
   ]
  },
  {
   "cell_type": "markdown",
   "id": "7b812cb3-786c-4fd2-843b-797c4b584841",
   "metadata": {},
   "source": [
    "# Inclusion ratios of different DAT score thresholds"
   ]
  },
  {
   "cell_type": "code",
   "execution_count": 82,
   "id": "42128a35-e491-40c0-b1d2-1e14d7ed4da7",
   "metadata": {},
   "outputs": [
    {
     "name": "stdout",
     "output_type": "stream",
     "text": [
      "threshold: 0.06\tinclusion ratio: 0.659\n",
      "threshold: 0.2\tinclusion ratio: 0.254\n",
      "threshold: 0.4\tinclusion ratio: 0.184\n",
      "threshold: 0.6\tinclusion ratio: 0.100\n"
     ]
    }
   ],
   "source": [
    "query_gene_disease_network_threshold_steps=\"\"\"\n",
    "SELECT\n",
    "    SUM(\n",
    "        CASE \n",
    "            WHEN score >= ? THEN 1.0 \n",
    "            ELSE 0.0 \n",
    "        END\n",
    "    ) / COUNT(*) AS inlcusion_ratio\n",
    "FROM \n",
    "    geneDiseaseNetwork\n",
    "LIMIT 10\n",
    "\"\"\"\n",
    "for threshold in [0.06, 0.2, 0.4, 0.6]:\n",
    "    for r in cur.execute(query_gene_disease_network_threshold_steps, [threshold]):\n",
    "        print(f\"threshold: {threshold}\\tinclusion ratio: {r[0]:.3f}\")"
   ]
  },
  {
   "cell_type": "markdown",
   "id": "f82d04b5-a4da-485e-8076-29927b98ed80",
   "metadata": {},
   "source": [
    "Note:\n",
    "\n",
    "If you already loaded DisGeNet into PostgreSQL you may use the `FILTER` clause, which will yield the same results but with a more concise code.\n",
    "\n",
    "```sql\n",
    "SELECT\n",
    "    (count(*) FILTER(WHERE score >= 0.06))::float / count(*)::float -- --> 0.66\n",
    "FROM\n",
    "    disgenet.gene_disease as gd \n",
    ";\n",
    "```"
   ]
  }
 ],
 "metadata": {
  "kernelspec": {
   "display_name": "Python 3 (ipykernel)",
   "language": "python",
   "name": "python3"
  },
  "language_info": {
   "codemirror_mode": {
    "name": "ipython",
    "version": 3
   },
   "file_extension": ".py",
   "mimetype": "text/x-python",
   "name": "python",
   "nbconvert_exporter": "python",
   "pygments_lexer": "ipython3",
   "version": "3.9.15"
  }
 },
 "nbformat": 4,
 "nbformat_minor": 5
}
